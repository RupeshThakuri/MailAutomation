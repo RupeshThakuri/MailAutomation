{
 "cells": [
  {
   "cell_type": "code",
   "execution_count": null,
   "metadata": {},
   "outputs": [
    {
     "name": "stdout",
     "output_type": "stream",
     "text": [
      "gmail API v1 service created successfully\n"
     ]
    }
   ],
   "source": [
    "from google_apis import create_service\n",
    "\n",
    "client_secret_file = 'client_secret_2.json'\n",
    "API_SERVICE_NAME = 'gmail'\n",
    "API_VERSION = 'v1'\n",
    "SCOPES = ['https://mail.google.com/']\n",
    "\n",
    "service = create_service(client_secret_file, API_SERVICE_NAME, API_VERSION, SCOPES)"
   ]
  },
  {
   "cell_type": "code",
   "execution_count": 7,
   "metadata": {},
   "outputs": [
    {
     "data": {
      "text/plain": [
       "['__class__',\n",
       " '__delattr__',\n",
       " '__dict__',\n",
       " '__dir__',\n",
       " '__doc__',\n",
       " '__enter__',\n",
       " '__eq__',\n",
       " '__exit__',\n",
       " '__firstlineno__',\n",
       " '__format__',\n",
       " '__ge__',\n",
       " '__getattribute__',\n",
       " '__getstate__',\n",
       " '__gt__',\n",
       " '__hash__',\n",
       " '__init__',\n",
       " '__init_subclass__',\n",
       " '__le__',\n",
       " '__lt__',\n",
       " '__module__',\n",
       " '__ne__',\n",
       " '__new__',\n",
       " '__reduce__',\n",
       " '__reduce_ex__',\n",
       " '__repr__',\n",
       " '__setattr__',\n",
       " '__setstate__',\n",
       " '__sizeof__',\n",
       " '__static_attributes__',\n",
       " '__str__',\n",
       " '__subclasshook__',\n",
       " '__weakref__',\n",
       " '_add_basic_methods',\n",
       " '_add_nested_resources',\n",
       " '_add_next_methods',\n",
       " '_baseUrl',\n",
       " '_credentials_validated',\n",
       " '_developerKey',\n",
       " '_dynamic_attrs',\n",
       " '_http',\n",
       " '_model',\n",
       " '_requestBuilder',\n",
       " '_resourceDesc',\n",
       " '_rootDesc',\n",
       " '_schema',\n",
       " '_set_dynamic_attr',\n",
       " '_set_service_methods',\n",
       " '_universe_domain',\n",
       " '_validate_credentials',\n",
       " 'close',\n",
       " 'new_batch_http_request',\n",
       " 'users']"
      ]
     },
     "execution_count": 7,
     "metadata": {},
     "output_type": "execute_result"
    }
   ],
   "source": [
    "dir(service)"
   ]
  },
  {
   "cell_type": "code",
   "execution_count": 8,
   "metadata": {},
   "outputs": [
    {
     "name": "stdout",
     "output_type": "stream",
     "text": [
      "gmail API v1 service created successfully\n"
     ]
    }
   ],
   "source": [
    "import marimo as mo\n",
    "from gmail_api import init_gmail_service, get_email_messages, get_email_message_details  \n",
    "client_file = \"client_secret_2.json\"\n",
    "service = init_gmail_service(client_file)"
   ]
  },
  {
   "cell_type": "code",
   "execution_count": 9,
   "metadata": {},
   "outputs": [
    {
     "name": "stdout",
     "output_type": "stream",
     "text": [
      "Total messages fetched: 444\n"
     ]
    }
   ],
   "source": [
    "messages = get_email_messages(service)\n",
    "print(f\"Total messages fetched: {len(messages)}\")"
   ]
  },
  {
   "cell_type": "code",
   "execution_count": 10,
   "metadata": {},
   "outputs": [
    {
     "name": "stdout",
     "output_type": "stream",
     "text": [
      "Recorded: Rasheed Cosby -> You | Amount: $5.0 | In\n",
      "Recorded: Dave Shabeeb -> You | Amount: $10.0 | In\n",
      "Recorded: Queen Dorsey -> You | Amount: $10.0 | In\n",
      "Recorded: Queen Dorsey -> You | Amount: $10.0 | In\n",
      "Recorded: John David Janosh -> You | Amount: $15.0 | In\n",
      "Recorded: Queen Dorsey -> You | Amount: $5.0 | In\n",
      "Recorded: John David Janosh -> You | Amount: $5.0 | In\n",
      "Recorded: John David Janosh -> You | Amount: $15.0 | In\n",
      "Recorded: mary -> You | Amount: $5.66 | In\n",
      "Recorded: mary -> You | Amount: $6.0 | In\n",
      "Recorded: You -> Bob Garcia | Amount: $50.0 | Out\n",
      "Recorded: Rasheed Cosby -> You | Amount: $5.0 | In\n",
      "Summary Recorded: Total In: $91.66, Total Out: $50.0, Profit/Loss: $41.66\n"
     ]
    }
   ],
   "source": [
    "import re\n",
    "from datetime import datetime\n",
    "import openpyxl\n",
    "\n",
    "# Create or load an Excel workbook\n",
    "wb = openpyxl.Workbook()\n",
    "ws = wb.active\n",
    "ws.title = \"Transactions\"\n",
    "\n",
    "# Add headers if not already present\n",
    "if ws.max_row == 1:\n",
    "    ws.append([\"Sender\", \"Receiver\", \"Amount\", \"In/Out\"])\n",
    "\n",
    "now = datetime.now()\n",
    "\n",
    "# Get current year\n",
    "year = now.strftime(\"%Y\")\n",
    "\n",
    "# Get current month as an integer (01 to 12)\n",
    "monthData = now.strftime(\"%m\")\n",
    "monthList = [\"Jan\", \"Feb\", \"Mar\", \"Apr\", \"May\", \"Jun\", \"Jul\", \"Aug\", \"Sep\", \"Oct\", \"Nov\", \"Dec\"]\n",
    "\n",
    "# Convert monthData to integer and use it to index monthList (0-based index)\n",
    "monthIndex = int(monthData) - 1  # Adjust for 0-based index\n",
    "month = monthList[monthIndex]\n",
    "day = now.strftime(\"%d\")\n",
    "time = now.strftime(\"%a\")\n",
    "\n",
    "# Format date as \"Day, dd Month yyyy\"\n",
    "curr_date = f\"{time}, {day} {month} {year}\"\n",
    "\n",
    "# Variables to track total amounts\n",
    "total_in = 0.0\n",
    "total_out = 0.0\n",
    "\n",
    "# Function to process payment message\n",
    "def process_payment_message(subject):\n",
    "    # Check if the subject is of a payment type\n",
    "    send_pattern = r\"You sent \\$(\\d+\\.?\\d*) to ([A-Za-z ]+)\"\n",
    "    receive_pattern = r\"([A-Za-z ]+) sent you \\$(\\d+\\.?\\d*)\"\n",
    "\n",
    "    send_match = re.match(send_pattern, subject)\n",
    "    receive_match = re.match(receive_pattern, subject)\n",
    "\n",
    "    if send_match:\n",
    "        amount = float(send_match.group(1))  # Convert to float for calculations\n",
    "        receiver = send_match.group(2)\n",
    "        sender = \"You\"\n",
    "        in_out = \"Out\"\n",
    "        return sender, receiver, amount, in_out\n",
    "\n",
    "    elif receive_match:\n",
    "        sender = receive_match.group(1)\n",
    "        amount = float(receive_match.group(2))  # Convert to float for calculations\n",
    "        receiver = \"You\"\n",
    "        in_out = \"In\"\n",
    "        return sender, receiver, amount, in_out\n",
    "\n",
    "    return None\n",
    "\n",
    "for msg in messages:\n",
    "    details = get_email_message_details(service, msg['id'])\n",
    "    email_date_str = details[\"date\"]\n",
    "\n",
    "    # Replace 'GMT' with '+0000' for proper parsing\n",
    "    email_date_str = email_date_str.replace(\" GMT\", \" +0000\")\n",
    "    \n",
    "    try:\n",
    "        # Parse the email date\n",
    "        email_date_obj = datetime.strptime(email_date_str, \"%a, %d %b %Y %H:%M:%S %z\")\n",
    "        email_date = email_date_obj.strftime(\"%a, %d %b %Y\")\n",
    "        \n",
    "        if email_date == curr_date:\n",
    "            subject = details['subject']\n",
    "            payment_info = process_payment_message(subject)\n",
    "\n",
    "            if payment_info:\n",
    "                sender, receiver, amount, in_out = payment_info\n",
    "\n",
    "                # Append transaction to the Excel sheet\n",
    "                ws.append([sender, receiver, amount, in_out])\n",
    "\n",
    "                # Update totals\n",
    "                if in_out == \"In\":\n",
    "                    total_in += amount\n",
    "                elif in_out == \"Out\":\n",
    "                    total_out += amount\n",
    "\n",
    "                print(f\"Recorded: {sender} -> {receiver} | Amount: ${amount} | {in_out}\")\n",
    "\n",
    "    except ValueError as e:\n",
    "        print(f\"Error parsing date: {email_date_str}\")\n",
    "        print(f\"Exception: {e}\")\n",
    "\n",
    "# Calculate profit/loss\n",
    "profit_loss = total_in - total_out\n",
    "\n",
    "# Write summary section\n",
    "summary_row = ws.max_row + 2  # Leave a gap after transactions\n",
    "ws[f\"A{summary_row}\"] = \"Summary\"\n",
    "ws[f\"A{summary_row + 1}\"] = \"Total In\"\n",
    "ws[f\"B{summary_row + 1}\"] = total_in\n",
    "\n",
    "ws[f\"A{summary_row + 2}\"] = \"Total Out\"\n",
    "ws[f\"B{summary_row + 2}\"] = total_out\n",
    "\n",
    "ws[f\"A{summary_row + 3}\"] = \"Profit/Loss\"\n",
    "ws[f\"B{summary_row + 3}\"] = profit_loss\n",
    "\n",
    "# Save the workbook\n",
    "wb.save(\"transactions.xlsx\")\n",
    "\n",
    "print(f\"Summary Recorded: Total In: ${total_in}, Total Out: ${total_out}, Profit/Loss: ${profit_loss}\")\n"
   ]
  }
 ],
 "metadata": {
  "kernelspec": {
   "display_name": "venv",
   "language": "python",
   "name": "python3"
  },
  "language_info": {
   "codemirror_mode": {
    "name": "ipython",
    "version": 3
   },
   "file_extension": ".py",
   "mimetype": "text/x-python",
   "name": "python",
   "nbconvert_exporter": "python",
   "pygments_lexer": "ipython3",
   "version": "3.13.2"
  }
 },
 "nbformat": 4,
 "nbformat_minor": 2
}
